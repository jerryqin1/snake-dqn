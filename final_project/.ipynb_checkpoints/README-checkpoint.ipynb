{
 "cells": [
  {
   "cell_type": "markdown",
   "metadata": {},
   "source": [
    "# Code Overview\n",
    "Due to issues with Jupyter Notebook rendering of the environment Turtle graphics, I have formatted my code in several other files included with this submission. This issue was communicated in advance to project submission. "
   ]
  },
  {
   "cell_type": "markdown",
   "metadata": {},
   "source": [
    "## snake.py\n",
    "\n",
    "This file contains the code necessary to run the Snake and is implemented using OpenAI's environment base class and Turtle graphics for display. Changes to this class represent the differenn state space representations and reward functions used in the experiment."
   ]
  },
  {
   "cell_type": "markdown",
   "metadata": {},
   "source": [
    "## agent.py\n",
    "\n",
    "This file implements a feed-forward DQN with 2 hidden layers. Intances of the agent class can train and test on the Snake environment in the previous file."
   ]
  },
  {
   "cell_type": "markdown",
   "metadata": {},
   "source": [
    "## train_snake_agent.py\n",
    "This file contains code to train a baseline DQN over all four different state space representations according to a specific reward function."
   ]
  },
  {
   "cell_type": "markdown",
   "metadata": {},
   "source": [
    "## test_snake_agent.py\n",
    "This file contains code to run a DQN with learned weights over all four different state space representations and log the training and testing results for each state representation according to a specific reward function."
   ]
  },
  {
   "cell_type": "markdown",
   "metadata": {},
   "source": [
    "## Data, Weights, and Plots\n",
    "\n",
    "Training data, network weights, and plots are provided in the zip file under the data, weights, and plot folders respectively. They are then broken down into subdirectories according to the specific reward function used to train the DQN on."
   ]
  }
 ],
 "metadata": {
  "kernelspec": {
   "display_name": "Python 3",
   "language": "python",
   "name": "python3"
  },
  "language_info": {
   "codemirror_mode": {
    "name": "ipython",
    "version": 3
   },
   "file_extension": ".py",
   "mimetype": "text/x-python",
   "name": "python",
   "nbconvert_exporter": "python",
   "pygments_lexer": "ipython3",
   "version": "3.8.5"
  }
 },
 "nbformat": 4,
 "nbformat_minor": 4
}
